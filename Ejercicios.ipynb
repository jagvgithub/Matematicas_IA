{
  "nbformat": 4,
  "nbformat_minor": 0,
  "metadata": {
    "colab": {
      "provenance": [],
      "authorship_tag": "ABX9TyMFRmDmm2bBVEms2v8QcOol",
      "include_colab_link": true
    },
    "kernelspec": {
      "name": "python3",
      "display_name": "Python 3"
    },
    "language_info": {
      "name": "python"
    }
  },
  "cells": [
    {
      "cell_type": "markdown",
      "metadata": {
        "id": "view-in-github",
        "colab_type": "text"
      },
      "source": [
        "<a href=\"https://colab.research.google.com/github/jagvgithub/Matematicas_IA/blob/main/Ejercicios.ipynb\" target=\"_parent\"><img src=\"https://colab.research.google.com/assets/colab-badge.svg\" alt=\"Open In Colab\"/></a>"
      ]
    },
    {
      "cell_type": "markdown",
      "source": [
        "# Universidad Internacional de Valencia\n",
        "## Matemáticas para la IA\n",
        "### Ejercicios de aplicación\n",
        "Jose Antonio Gómez Vargas\n",
        "\n"
      ],
      "metadata": {
        "id": "86k_jPPF9f2S"
      }
    },
    {
      "cell_type": "markdown",
      "source": [
        "Ejercicio 1 (2 puntos). Desarrollo de Laplace.\n",
        "1. Deducir de la definición 4 el determinante en dimensión 0, 1 y 2.\n",
        "2. A partir de la definición 4, expresar el determinante de una matriz cuadrada recursivamente en función de determinantes la matrices cuadradas de\n",
        "dimensión inferior.\n",
        "Indicación: para cada 𝑛 ∈ N, distribuir (por linealidad en las columnas)\n",
        "sobre la descomposición de una matriz cuadrada de dimensión 𝑛 + 1, siendo 𝑛 ∈ N y\n",
        "\n",
        "- 𝜆 un coeficiente real,\n",
        "- 𝑣 un vector de dimensión 𝑛 (una columna de 𝑛 coeficientes reales),\n",
        "- 𝜔 un covector de la misma dimensión (una fila de 𝑛 coeficientes),\n",
        "- 𝐴 una matriz cuadrada de la misma dimensión (con 𝑛\n",
        "2\n",
        "coeficientes),\n",
        "luego proceder del mismo modo\n",
        "con los demás coeficientes de esa primera columna,\n",
        "con cada columna.\n",
        "3. Implementar en Python la definición así obtenida."
      ],
      "metadata": {
        "id": "SEngRq2a9_Qe"
      }
    },
    {
      "cell_type": "markdown",
      "source": [
        "$$\n",
        "\\begin{pmatrix}\n",
        "\\lambda & w \\\\\n",
        "v & A\n",
        "\\end{pmatrix}\n",
        "=\n",
        "\\begin{pmatrix}\n",
        "\\lambda*1+0 & w \\\\\n",
        "\\lambda * 0 +v  & A\n",
        "\\end{pmatrix}\n",
        "$$"
      ],
      "metadata": {
        "id": "QW-Vqqk5-XZX"
      }
    },
    {
      "cell_type": "code",
      "execution_count": null,
      "metadata": {
        "id": "GmsTd60p9WLD"
      },
      "outputs": [],
      "source": []
    },
    {
      "cell_type": "markdown",
      "source": [
        "---\n",
        "$Ejercicio \\ 1_1$\n",
        "\n",
        "---"
      ],
      "metadata": {
        "id": "SfITmCKpANvb"
      }
    },
    {
      "cell_type": "markdown",
      "source": [
        "\n",
        "### Dimensión 0\n",
        "En dimensión 0, una matriz es una matriz vacía, ya que no tiene filas ni columnas. Por convención, el determinante de una matriz vacía es 1, porque no hay vectores involucrados, y la única función que puede cumplir con las propiedades dadas (linealidad y antisimetría) es la que asigna el valor 1.\n",
        "\n",
        "$$\n",
        "\\det(\\text{matriz vacía}) = 1\n",
        "$$\n",
        "\n",
        "### Dimensión 1\n",
        "En dimensión 1, una matriz \\(1 \\times 1\\) es simplemente un escalar \\(a\\). La única función lineal antisimétrica de un solo vector que cumple la propiedad que el determinante de la matriz identidad sea 1 es el propio valor del único elemento de la matriz.\n",
        "\n",
        "Sea $A = \\begin{pmatrix} a \\end{pmatrix}$, entonces:\n",
        "\n",
        "$\n",
        "\\det(A) = a\n",
        "$\n",
        "\n",
        "Para la matriz identidad $I = \\begin{pmatrix} 1 \\end{pmatrix}$:\n",
        "\n",
        "$\n",
        "\\det(I) = 1\n",
        "$\n",
        "\n",
        "### Dimensión 2\n",
        "En dimensión 2, una matriz $(2 \\times 2)$ tiene la forma:\n",
        "\n",
        "$$\n",
        "A = \\begin{pmatrix}\n",
        "a & b \\\\\n",
        "c & d\n",
        "\\end{pmatrix}\n",
        "$$\n",
        "\n",
        "Para deducir el determinante, usaremos las propiedades de linealidad y antisimetría. El determinante debe ser una función lineal de los vectores columna y cambiar de signo si intercambiamos dos vectores columna.\n",
        "\n",
        "Para la matriz identidad $$I = \\begin{pmatrix}\n",
        "1 & 0 \\\\\n",
        "0 & 1\n",
        "\\end{pmatrix}$$, el determinante debe ser 1. Además, si intercambiamos dos filas o columnas, el signo del determinante debe cambiar.\n",
        "\n",
        "La única función que satisface estas propiedades en dimensión 2 es:\n",
        "\n",
        "$$\n",
        "\\det(A) = ad - bc\n",
        "$$\n",
        "\n",
        "Podemos verificar que esta fórmula cumple con las propiedades requeridas:\n",
        "\n",
        "1. **Linealidad**: El determinante es lineal en cada columna.\n",
        "2. **Antisimetría**: Si intercambiamos las dos columnas, el determinante cambia de signo:\n",
        "   $$\n",
        "   \\det\\begin{pmatrix}\n",
        "   b & a \\\\\n",
        "   d & c\n",
        "   \\end{pmatrix} = bc - ad = -(ad - bc)\n",
        "   $$\n",
        "\n",
        "3. **Determinante de la matriz identidad**:\n",
        "   $$\n",
        "   \\det\\begin{pmatrix}\n",
        "   1 & 0 \\\\\n",
        "   0 & 1\n",
        "   \\end{pmatrix} = 1 \\cdot 1 - 0 \\cdot 0 = 1\n",
        "   $$\n",
        "\n",
        "\n"
      ],
      "metadata": {
        "id": "QlWsSs0VAIvD"
      }
    },
    {
      "cell_type": "markdown",
      "source": [
        "---\n",
        "$Ejercicio \\ 1_2$\n",
        "\n",
        "---"
      ],
      "metadata": {
        "id": "e6-srn6xE-lx"
      }
    },
    {
      "cell_type": "markdown",
      "source": [
        "# Deducción Recursiva del Determinante\n",
        "\n",
        "## Definición 4 (Determinante)\n",
        "El determinante de una matriz en tanto lista de vectores es la única función lineal antisimétrica de estos vectores tal que la matriz de la función identidad tenga determinante uno.\n",
        "\n",
        "## Expansión por Cofactores\n",
        "Para una matriz cuadrada \\( A \\) de dimensión \\( n+1 \\):\n",
        "\n",
        "$$\n",
        "A = \\begin{pmatrix}\n",
        "\\lambda & \\omega \\\\\n",
        "v & A\n",
        "\\end{pmatrix}\n",
        "$$\n",
        "\n",
        "donde:\n",
        "- $\\lambda$ es un escalar.\n",
        "- $ v$ es un vector columna de dimensión $n$.\n",
        "- $\\omega$ es un vector fila de dimensión $ n $.\n",
        "- $A$ es una matriz cuadrada de dimensión $ n \\times n$.\n",
        "\n",
        "La fórmula recursiva para el determinante es:\n",
        "\n",
        "$$\n",
        "\\det(A) = \\sum_{j=1}^{n+1} (-1)^{1+j} a_{1j} \\det(A_{1j})\n",
        "$$\n",
        "\n",
        "donde $ a_{1j}$ es el elemento en la primera fila y $j$-ésima columna de $A$ , y $A_{1j}$ es la submatriz de $A$ que resulta de eliminar la primera fila y la $j$-ésima columna.\n",
        "\n",
        "## Ejemplo para $ n = 2$\n",
        "Para una matriz $3 \\times 3$:\n",
        "\n",
        "$$\n",
        "A = \\begin{pmatrix}\n",
        "a_{11} & a_{12} & a_{13} \\\\\n",
        "a_{21} & a_{22} & a_{23} \\\\\n",
        "a_{31} & a_{32} & a_{33}\n",
        "\\end{pmatrix}\n",
        "$$\n",
        "\n",
        "El determinante de $A$ es:\n",
        "\n",
        "$$\n",
        "\\det(A) = a_{11} \\det\\begin{pmatrix}\n",
        "a_{22} & a_{23} \\\\\n",
        "a_{32} & a_{33}\n",
        "\\end{pmatrix}\n",
        "- a_{12} \\det\\begin{pmatrix}\n",
        "a_{21} & a_{23} \\\\\n",
        "a_{31} & a_{33}\n",
        "\\end{pmatrix}\n",
        "+ a_{13} \\det\\begin{pmatrix}\n",
        "a_{21} & a_{22} \\\\\n",
        "a_{31} & a_{32}\n",
        "\\end{pmatrix}\n",
        "$$\n",
        "\n",
        "Cada determinante de submatriz $2 \\times 2$ se calcula como:\n",
        "\n",
        "$$\n",
        "\\det\\begin{pmatrix}\n",
        "a_{22} & a_{23} \\\\\n",
        "a_{32} & a_{33}\n",
        "\\end{pmatrix} = a_{22}a_{33} - a_{23}a_{32}\n",
        "$$\n",
        "\n",
        "$$\n",
        "\\det\\begin{pmatrix}\n",
        "a_{21} & a_{23} \\\\\n",
        "a_{31} & a_{33}\n",
        "\\end{pmatrix} = a_{21}a_{33} - a_{23}a_{31}\n",
        "$$\n",
        "\n",
        "$$\n",
        "\\det\\begin{pmatrix}\n",
        "a_{21} & a_{22} \\\\\n",
        "a_{31} & a_{32}\n",
        "\\end{pmatrix} = a_{21}a_{32} - a_{22}a_{31}\n",
        "$$\n"
      ],
      "metadata": {
        "id": "KL8Kl0LYC1Oi"
      }
    },
    {
      "cell_type": "markdown",
      "source": [
        "---\n",
        "$Ejercicio \\ 1_3$\n",
        "\n",
        "---"
      ],
      "metadata": {
        "id": "1tJgHd0EFo4V"
      }
    },
    {
      "cell_type": "code",
      "source": [
        "import numpy as np\n",
        "\n",
        "def determinant(matrix):\n",
        "    # Base case for 1x1 matrix\n",
        "    if len(matrix) == 1:\n",
        "        return matrix[0, 0]\n",
        "\n",
        "    # Base case for 2x2 matrix\n",
        "    if len(matrix) == 2:\n",
        "        return matrix[0, 0] * matrix[1, 1] - matrix[0, 1] * matrix[1, 0]\n",
        "\n",
        "    # Recursive case for larger matrices\n",
        "    det = 0\n",
        "    for j in range(len(matrix)):\n",
        "        submatrix = np.delete(np.delete(matrix, 0, axis=0), j, axis=1)\n",
        "        cofactor = (-1) ** j * matrix[0, j]\n",
        "        det += cofactor * determinant(submatrix)\n",
        "\n",
        "    return det\n",
        "\n",
        "# Ejemplo de uso:\n",
        "A = np.array([\n",
        "    [1, 2, 3],\n",
        "    [0, 1, 4],\n",
        "    [5, 6, 0]\n",
        "])\n",
        "\n",
        "print(\"El determinante de A es:\", determinant(A))\n"
      ],
      "metadata": {
        "id": "hxOQQTkKFdiV",
        "outputId": "d5530341-fdd5-4c31-96fc-14f2517e2f89",
        "colab": {
          "base_uri": "https://localhost:8080/"
        }
      },
      "execution_count": 1,
      "outputs": [
        {
          "output_type": "stream",
          "name": "stdout",
          "text": [
            "El determinante de A es: 1\n"
          ]
        }
      ]
    },
    {
      "cell_type": "markdown",
      "source": [
        "Ejercicio 2 (2 puntos). Eliminación de Gauss–Jordan.\n",
        "1. Deducir de la definición 4 el efecto que tiene en el determinante de una matriz\n",
        "sumar a una de sus columnas una combinación lineal de las demás.\n",
        "2. A partir de la definición 4, proponer una estrategia para triangularizar una\n",
        "matriz sin cambiar su determinante e implementar en Python una definición\n",
        "alternativa del determinante.\n",
        "Indicación: descomponer similarmente al ejercicio anterior.\n",
        "3. implementar en Python la definición así obtenida.\n"
      ],
      "metadata": {
        "id": "AtX1nq89F_n0"
      }
    },
    {
      "cell_type": "markdown",
      "source": [
        "---\n",
        "### Parte 1: Efecto en el Determinante al Sumar una Combinación Lineal de las Demás Columnas\n",
        "\n",
        "---\n",
        "\n",
        "De la definición 4, sabemos que el determinante es una función lineal antisimétrica. Esto significa que el determinante de una matriz cambia de signo si intercambiamos dos columnas y es lineal respecto a cada columna. Ahora, consideremos el efecto de sumar a una columna una combinación lineal de las demás columnas.\n",
        "\n",
        "Sea $A$ una matriz cuadrada y supongamos que sumamos una combinación lineal de las columnas $C_2, C_3, \\ldots, C_n$ a la primera columna $C_1$. Es decir, la nueva columna $C_1'$ es:\n",
        "\n",
        "$$\n",
        "C_1' = C_1 + a_2 C_2 + a_3 C_3 + \\ldots + a_n C_n\n",
        "$$\n",
        "\n",
        "donde $a_2, a_3, \\ldots, a_n$ son coeficientes escalares.\n",
        "\n",
        "Por la linealidad del determinante, podemos escribir el determinante de la nueva matriz como la suma de determinantes de matrices donde cada matriz tiene una de las columnas $C_1, a_2 C_2, a_3 C_3, \\ldots, a_n C_n$ en la primera columna y las demás columnas de $A$. Sin embargo, todas estas matrices con una columna múltiplo de otra tendrán determinante 0 debido a la propiedad de linealidad, excepto la matriz con la columna original $C_1$.\n",
        "\n",
        "Por lo tanto, sumar una combinación lineal de otras columnas a una columna no cambia el determinante de la matriz.\n",
        "\n",
        "\n"
      ],
      "metadata": {
        "id": "gVjK-20KGs3R"
      }
    },
    {
      "cell_type": "markdown",
      "source": [
        "---\n",
        "### Parte 2: Estrategia para Triangularizar una Matriz sin Cambiar su Determinante\n",
        "\n",
        "---\n",
        "\n",
        "Para triangularizar una matriz sin cambiar su determinante, podemos usar las siguientes operaciones elementales que no alteran el valor del determinante:\n",
        "\n",
        "1. **Intercambiar dos filas o columnas**: Cambia el signo del determinante.\n",
        "2. **Multiplicar una fila o columna por un escalar \\( k \\)**: Multiplica el determinante por \\( k \\).\n",
        "3. **Sumar a una fila (o columna) una combinación lineal de las otras filas (o columnas)**: No cambia el determinante.\n",
        "\n",
        "Usando la eliminación de Gauss-Jordan, nos limitaremos a usar la tercera operación (sumar combinaciones lineales de otras filas o columnas) para triangularizar la matriz. Esto garantiza que el determinante se mantenga invariante durante el proceso."
      ],
      "metadata": {
        "id": "t2V5RiQVHMEP"
      }
    },
    {
      "cell_type": "markdown",
      "source": [
        "---\n",
        "###Parte 3: Implementación en python\n",
        "\n",
        "---"
      ],
      "metadata": {
        "id": "S31U3Dv_HWMf"
      }
    },
    {
      "cell_type": "code",
      "source": [
        "import numpy as np\n",
        "\n",
        "def gauss_jordan(matrix):\n",
        "    n = len(matrix)\n",
        "    for i in range(n):\n",
        "        # Make the diagonal contain all 1's\n",
        "        if matrix[i, i] == 0:\n",
        "            for j in range(i+1, n):\n",
        "                if matrix[j, i] != 0:\n",
        "                    matrix[[i, j]] = matrix[[j, i]]\n",
        "                    break\n",
        "\n",
        "        # Normalize the pivot row\n",
        "        pivot = matrix[i, i]\n",
        "        matrix[i] = matrix[i] / pivot\n",
        "\n",
        "        # Make all rows below the pivot have 0 in current column\n",
        "        for j in range(i+1, n):\n",
        "            matrix[j] -= matrix[j, i] * matrix[i]\n",
        "\n",
        "    return matrix\n",
        "\n",
        "def determinant(matrix):\n",
        "    matrix = matrix.astype(float)  # Ensure floating-point division\n",
        "    n = len(matrix)\n",
        "\n",
        "    if n == 1:\n",
        "        return matrix[0, 0]\n",
        "\n",
        "    # Triangularize the matrix using Gauss-Jordan\n",
        "    triangular_matrix = gauss_jordan(matrix)\n",
        "\n",
        "    # The determinant is the product of the diagonal elements\n",
        "    det = 1\n",
        "    for i in range(n):\n",
        "        det *= triangular_matrix[i, i]\n",
        "\n",
        "    return det\n",
        "\n",
        "# Ejemplo de uso:\n",
        "A = np.array([\n",
        "    [1, 2, 3],\n",
        "    [0, 1, 4],\n",
        "    [5, 6, 0]\n",
        "])\n",
        "\n",
        "print(\"El determinante de A es:\", determinant(A))\n"
      ],
      "metadata": {
        "id": "fmhCBi-EHi67",
        "outputId": "13a00305-aebd-456f-c038-fc58b4e0e822",
        "colab": {
          "base_uri": "https://localhost:8080/"
        }
      },
      "execution_count": 2,
      "outputs": [
        {
          "output_type": "stream",
          "name": "stdout",
          "text": [
            "El determinante de A es: 1.0\n"
          ]
        }
      ]
    }
  ]
}